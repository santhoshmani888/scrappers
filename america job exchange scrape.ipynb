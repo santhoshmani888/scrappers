{
 "cells": [
  {
   "cell_type": "code",
   "execution_count": 1,
   "metadata": {},
   "outputs": [],
   "source": [
    "import os\n",
    "os.chdir(\"Desktop\")\n"
   ]
  },
  {
   "cell_type": "code",
   "execution_count": 2,
   "metadata": {
    "collapsed": true
   },
   "outputs": [],
   "source": [
    "from bs4 import BeautifulSoup\n",
    "from urllib.request import urlopen\n",
    "from urllib.parse import urlparse\n",
    "import requests, bs4\n",
    "import re\n",
    "import json\n",
    "import csv"
   ]
  },
  {
   "cell_type": "code",
   "execution_count": 3,
   "metadata": {
    "collapsed": true
   },
   "outputs": [],
   "source": [
    "url=\"https://www.americasjobexchange.com/job-search-by-category\""
   ]
  },
  {
   "cell_type": "code",
   "execution_count": 4,
   "metadata": {
    "collapsed": true
   },
   "outputs": [],
   "source": [
    "page = requests.get(url).content\n",
    "soup = BeautifulSoup(page, \"html.parser\")\n",
    "pattern = re.compile(r\"var ___cats =\")\n",
    "script = soup.find(\"script\",text=pattern)"
   ]
  },
  {
   "cell_type": "code",
   "execution_count": 5,
   "metadata": {
    "collapsed": true
   },
   "outputs": [],
   "source": [
    "m = re.search('var ___cats =(.+)[,;]{1}', str(script))\n",
    "if m:\n",
    "    found = m.group(1)\n",
    "    #print(found)\n",
    "    d = json.loads(found)\n",
    "    headers=['category','title','summary']\n",
    "    with open(\"output.csv\",'w',newline='') as f:\n",
    "        writer = csv.writer(f, lineterminator='\\n',quotechar='\"', delimiter=',',\n",
    "                     quoting=csv.QUOTE_ALL, skipinitialspace=True)\n",
    "        writer.writerow(headers)\n",
    "        for i in d:\n",
    "            for session, ratings in i.items():\n",
    "                x=(i['subCategories'])\n",
    "                #print(\"{} {}\".format(session, ratings))\n",
    "                for j in x:\n",
    "                    for s, r in j.items():\n",
    "                        #print(j['summary'])\n",
    "                        writer.writerow([j['category'],j['title'],j['summary'].replace(',',' ')])\n",
    "\n",
    "\n"
   ]
  },
  {
   "cell_type": "code",
   "execution_count": 6,
   "metadata": {
    "collapsed": true
   },
   "outputs": [],
   "source": [
    "with open('output.csv','r') as in_file, open('output_no_dup.csv','w') as out_file:\n",
    "    seen = set() \n",
    "    for line in in_file:\n",
    "        if line in seen: continue # skip duplicate\n",
    "\n",
    "        seen.add(line)\n",
    "        out_file.write(line)"
   ]
  },
  {
   "cell_type": "code",
   "execution_count": null,
   "metadata": {
    "collapsed": true
   },
   "outputs": [],
   "source": []
  },
  {
   "cell_type": "code",
   "execution_count": null,
   "metadata": {
    "collapsed": true
   },
   "outputs": [],
   "source": []
  },
  {
   "cell_type": "code",
   "execution_count": null,
   "metadata": {
    "collapsed": true
   },
   "outputs": [],
   "source": []
  },
  {
   "cell_type": "code",
   "execution_count": null,
   "metadata": {
    "collapsed": true
   },
   "outputs": [],
   "source": []
  },
  {
   "cell_type": "code",
   "execution_count": null,
   "metadata": {
    "collapsed": true
   },
   "outputs": [],
   "source": []
  }
 ],
 "metadata": {
  "kernelspec": {
   "display_name": "Python 3",
   "language": "python",
   "name": "python3"
  },
  "language_info": {
   "codemirror_mode": {
    "name": "ipython",
    "version": 3
   },
   "file_extension": ".py",
   "mimetype": "text/x-python",
   "name": "python",
   "nbconvert_exporter": "python",
   "pygments_lexer": "ipython3",
   "version": "3.6.1"
  }
 },
 "nbformat": 4,
 "nbformat_minor": 2
}
